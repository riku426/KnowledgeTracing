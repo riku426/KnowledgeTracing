{
 "cells": [
  {
   "cell_type": "code",
   "execution_count": 1,
   "metadata": {},
   "outputs": [],
   "source": [
    "import pandas as pd\n",
    "truth = pd.read_csv('train_save_truth.csv', header=None)\n",
    "pred = pd.read_csv('train_save_pred.csv', header=None)"
   ]
  },
  {
   "cell_type": "code",
   "execution_count": 2,
   "metadata": {},
   "outputs": [
    {
     "name": "stdout",
     "output_type": "stream",
     "text": [
      "144604 52423\n"
     ]
    }
   ],
   "source": [
    "truth = truth[0].tolist()\n",
    "pred = pred[0].tolist()\n",
    "correct = 0\n",
    "not_correct = 0\n",
    "for i in range(len(truth)):\n",
    "  if pred[i] < 0.5:\n",
    "    p = 0\n",
    "  else:\n",
    "    p = 1\n",
    "  if p == truth[i]:\n",
    "    correct += 1\n",
    "  else:\n",
    "    not_correct += 1\n",
    "print(correct, not_correct)"
   ]
  },
  {
   "cell_type": "code",
   "execution_count": 3,
   "metadata": {},
   "outputs": [
    {
     "data": {
      "text/html": [
       "<div>\n",
       "<style scoped>\n",
       "    .dataframe tbody tr th:only-of-type {\n",
       "        vertical-align: middle;\n",
       "    }\n",
       "\n",
       "    .dataframe tbody tr th {\n",
       "        vertical-align: top;\n",
       "    }\n",
       "\n",
       "    .dataframe thead th {\n",
       "        text-align: right;\n",
       "    }\n",
       "</style>\n",
       "<table border=\"1\" class=\"dataframe\">\n",
       "  <thead>\n",
       "    <tr style=\"text-align: right;\">\n",
       "      <th></th>\n",
       "      <th>student_id</th>\n",
       "      <th>skill_id</th>\n",
       "      <th>skill_mastery</th>\n",
       "      <th>ability_profile</th>\n",
       "      <th>problem_difficulty</th>\n",
       "      <th>correctness</th>\n",
       "      <th>problems</th>\n",
       "    </tr>\n",
       "  </thead>\n",
       "  <tbody>\n",
       "    <tr>\n",
       "      <th>0</th>\n",
       "      <td>2</td>\n",
       "      <td>83</td>\n",
       "      <td>0.563882</td>\n",
       "      <td>0</td>\n",
       "      <td>2</td>\n",
       "      <td>1</td>\n",
       "      <td>58827</td>\n",
       "    </tr>\n",
       "    <tr>\n",
       "      <th>1</th>\n",
       "      <td>2</td>\n",
       "      <td>82</td>\n",
       "      <td>0.742560</td>\n",
       "      <td>0</td>\n",
       "      <td>2</td>\n",
       "      <td>1</td>\n",
       "      <td>90443</td>\n",
       "    </tr>\n",
       "    <tr>\n",
       "      <th>2</th>\n",
       "      <td>2</td>\n",
       "      <td>82</td>\n",
       "      <td>0.844854</td>\n",
       "      <td>0</td>\n",
       "      <td>1</td>\n",
       "      <td>1</td>\n",
       "      <td>54214</td>\n",
       "    </tr>\n",
       "    <tr>\n",
       "      <th>3</th>\n",
       "      <td>2</td>\n",
       "      <td>37</td>\n",
       "      <td>0.606742</td>\n",
       "      <td>0</td>\n",
       "      <td>7</td>\n",
       "      <td>0</td>\n",
       "      <td>60018</td>\n",
       "    </tr>\n",
       "    <tr>\n",
       "      <th>4</th>\n",
       "      <td>2</td>\n",
       "      <td>37</td>\n",
       "      <td>0.608723</td>\n",
       "      <td>0</td>\n",
       "      <td>0</td>\n",
       "      <td>1</td>\n",
       "      <td>59987</td>\n",
       "    </tr>\n",
       "  </tbody>\n",
       "</table>\n",
       "</div>"
      ],
      "text/plain": [
       "   student_id  skill_id  skill_mastery  ability_profile  problem_difficulty  \\\n",
       "0           2        83       0.563882                0                   2   \n",
       "1           2        82       0.742560                0                   2   \n",
       "2           2        82       0.844854                0                   1   \n",
       "3           2        37       0.606742                0                   7   \n",
       "4           2        37       0.608723                0                   0   \n",
       "\n",
       "   correctness  problems  \n",
       "0            1     58827  \n",
       "1            1     90443  \n",
       "2            1     54214  \n",
       "3            0     60018  \n",
       "4            1     59987  "
      ]
     },
     "execution_count": 3,
     "metadata": {},
     "output_type": "execute_result"
    }
   ],
   "source": [
    "train = pd.read_csv('assist2009/train_data.csv')\n",
    "train.head()"
   ]
  },
  {
   "cell_type": "code",
   "execution_count": 4,
   "metadata": {},
   "outputs": [
    {
     "data": {
      "text/plain": [
       "1    64990\n",
       "2    38410\n",
       "0    31680\n",
       "5    23490\n",
       "4    12378\n",
       "3    11511\n",
       "7     8504\n",
       "6     6064\n",
       "Name: ability_profile, dtype: int64"
      ]
     },
     "execution_count": 4,
     "metadata": {},
     "output_type": "execute_result"
    }
   ],
   "source": [
    "train['ability_profile'].value_counts()"
   ]
  },
  {
   "cell_type": "code",
   "execution_count": 21,
   "metadata": {},
   "outputs": [
    {
     "name": "stdout",
     "output_type": "stream",
     "text": [
      "130172 66855\n"
     ]
    }
   ],
   "source": [
    "correct = train['correctness'].tolist()\n",
    "same = 0\n",
    "not_same = 0\n",
    "for i in range(len(correct)):\n",
    "  if correct[i] == truth[i]:\n",
    "    same += 1\n",
    "  else:\n",
    "    not_same += 1\n",
    "print(same, not_same)"
   ]
  },
  {
   "cell_type": "code",
   "execution_count": null,
   "metadata": {},
   "outputs": [],
   "source": []
  }
 ],
 "metadata": {
  "kernelspec": {
   "display_name": "time",
   "language": "python",
   "name": "python3"
  },
  "language_info": {
   "codemirror_mode": {
    "name": "ipython",
    "version": 3
   },
   "file_extension": ".py",
   "mimetype": "text/x-python",
   "name": "python",
   "nbconvert_exporter": "python",
   "pygments_lexer": "ipython3",
   "version": "3.9.17"
  },
  "orig_nbformat": 4
 },
 "nbformat": 4,
 "nbformat_minor": 2
}
